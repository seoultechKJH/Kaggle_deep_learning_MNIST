{
 "cells": [
  {
   "cell_type": "markdown",
   "metadata": {},
   "source": [
    "# Fashion MNIST feedforward neural networks\n"
   ]
  },
  {
   "cell_type": "code",
   "execution_count": 2,
   "metadata": {},
   "outputs": [],
   "source": [
    "import torch\n",
    "import torchvision\n",
    "import numpy as np\n",
    "import matplotlib.pyplot as plt\n",
    "import torch.nn as nn\n",
    "import torch.nn.functional as F\n",
    "from torchvision.datasets import FashionMNIST\n",
    "from torchvision.transforms import ToTensor\n",
    "from torchvision.utils import make_grid\n",
    "from torch.utils.data.dataloader import DataLoader\n",
    "from torch.utils.data import random_split"
   ]
  },
  {
   "cell_type": "markdown",
   "metadata": {},
   "source": [
    "## Preparing the Data"
   ]
  },
  {
   "cell_type": "code",
   "execution_count": 3,
   "metadata": {},
   "outputs": [
    {
     "name": "stdout",
     "output_type": "stream",
     "text": [
      "Downloading http://fashion-mnist.s3-website.eu-central-1.amazonaws.com/train-images-idx3-ubyte.gz\n",
      "Downloading http://fashion-mnist.s3-website.eu-central-1.amazonaws.com/train-images-idx3-ubyte.gz to data/FashionMNIST\\raw\\train-images-idx3-ubyte.gz\n"
     ]
    },
    {
     "data": {
      "application/vnd.jupyter.widget-view+json": {
       "model_id": "b5b46521b0534830a364421ed4ea0ca8",
       "version_major": 2,
       "version_minor": 0
      },
      "text/plain": [
       "  0%|          | 0/26421880 [00:00<?, ?it/s]"
      ]
     },
     "metadata": {},
     "output_type": "display_data"
    },
    {
     "name": "stdout",
     "output_type": "stream",
     "text": [
      "Extracting data/FashionMNIST\\raw\\train-images-idx3-ubyte.gz to data/FashionMNIST\\raw\n",
      "\n",
      "Downloading http://fashion-mnist.s3-website.eu-central-1.amazonaws.com/train-labels-idx1-ubyte.gz\n",
      "Downloading http://fashion-mnist.s3-website.eu-central-1.amazonaws.com/train-labels-idx1-ubyte.gz to data/FashionMNIST\\raw\\train-labels-idx1-ubyte.gz\n"
     ]
    },
    {
     "data": {
      "application/vnd.jupyter.widget-view+json": {
       "model_id": "a2dfd54986694cf9bf072bd9806168fe",
       "version_major": 2,
       "version_minor": 0
      },
      "text/plain": [
       "  0%|          | 0/29515 [00:00<?, ?it/s]"
      ]
     },
     "metadata": {},
     "output_type": "display_data"
    },
    {
     "name": "stdout",
     "output_type": "stream",
     "text": [
      "Extracting data/FashionMNIST\\raw\\train-labels-idx1-ubyte.gz to data/FashionMNIST\\raw\n",
      "\n",
      "Downloading http://fashion-mnist.s3-website.eu-central-1.amazonaws.com/t10k-images-idx3-ubyte.gz\n",
      "Downloading http://fashion-mnist.s3-website.eu-central-1.amazonaws.com/t10k-images-idx3-ubyte.gz to data/FashionMNIST\\raw\\t10k-images-idx3-ubyte.gz\n"
     ]
    },
    {
     "data": {
      "application/vnd.jupyter.widget-view+json": {
       "model_id": "7183775e65924f05b2149b2714c8cf7f",
       "version_major": 2,
       "version_minor": 0
      },
      "text/plain": [
       "  0%|          | 0/4422102 [00:00<?, ?it/s]"
      ]
     },
     "metadata": {},
     "output_type": "display_data"
    },
    {
     "name": "stdout",
     "output_type": "stream",
     "text": [
      "Extracting data/FashionMNIST\\raw\\t10k-images-idx3-ubyte.gz to data/FashionMNIST\\raw\n",
      "\n",
      "Downloading http://fashion-mnist.s3-website.eu-central-1.amazonaws.com/t10k-labels-idx1-ubyte.gz\n",
      "Downloading http://fashion-mnist.s3-website.eu-central-1.amazonaws.com/t10k-labels-idx1-ubyte.gz to data/FashionMNIST\\raw\\t10k-labels-idx1-ubyte.gz\n"
     ]
    },
    {
     "data": {
      "application/vnd.jupyter.widget-view+json": {
       "model_id": "011e9052b7e9476a8d2d191008974a6e",
       "version_major": 2,
       "version_minor": 0
      },
      "text/plain": [
       "  0%|          | 0/5148 [00:00<?, ?it/s]"
      ]
     },
     "metadata": {},
     "output_type": "display_data"
    },
    {
     "name": "stdout",
     "output_type": "stream",
     "text": [
      "Extracting data/FashionMNIST\\raw\\t10k-labels-idx1-ubyte.gz to data/FashionMNIST\\raw\n",
      "\n"
     ]
    }
   ],
   "source": [
    "dataset = FashionMNIST(root='data/', download=True, transform=ToTensor()) # Fashion MNIST 데이터셋 다운로드\n",
    "test_dataset = FashionMNIST(root='data/', train=True, transform=ToTensor()) # Fashion MNIST 테스트 데이터셋 다운로드"
   ]
  },
  {
   "cell_type": "code",
   "execution_count": null,
   "metadata": {},
   "outputs": [],
   "source": [
    "val_size = 10000 # validation set 크기\n",
    "train_size = len(dataset) - val_size # training set 크기\n",
    "train_ds, val_ds = random_split(dataset, [train_size, val_size]) # 전체 dataset으로부터 분리\n",
    "\n",
    "print(list(train_ds))"
   ]
  },
  {
   "cell_type": "code",
   "execution_count": 4,
   "metadata": {},
   "outputs": [],
   "source": [
    "batch_size=128 # batch 크기"
   ]
  },
  {
   "cell_type": "code",
   "execution_count": 5,
   "metadata": {},
   "outputs": [],
   "source": [
    "train_loader = DataLoader(train_ds, batch_size, shuffle=True, num_workers=4, pin_memory=True) # batch size만큼 training data 로드\n",
    "val_loader = DataLoader(val_ds, batch_size*2, num_workers=4, pin_memory=True) # batch size 2배만큼 validation data 로드\n",
    "test_loader = DataLoader(test_dataset, batch_size*2, num_workers=4, pin_memory=True) # batch size 2배만큼 test data 로드"
   ]
  },
  {
   "cell_type": "markdown",
   "metadata": {},
   "source": [
    "## Model"
   ]
  },
  {
   "cell_type": "code",
   "execution_count": 6,
   "metadata": {},
   "outputs": [],
   "source": [
    "def accuracy(outputs, labels):\n",
    "    _, preds = torch.max(outputs, dim=1) # output 각 이미지마다 가장 큰 확률의 인덱스(=class 번호)를 변수 preds에 저장\n",
    "    return torch.tensor(torch.sum(preds == labels).item() / len(preds)) # 분류가 잘된 개수로 정확도 산출"
   ]
  },
  {
   "cell_type": "code",
   "execution_count": 7,
   "metadata": {},
   "outputs": [],
   "source": [
    "class MnistModel(nn.Module):\n",
    "    def __init__(self, in_size, out_size):\n",
    "        super().__init__()\n",
    "        # hidden layer 1\n",
    "        self.linear1 = nn.Linear(in_size, 16) #hidden layer1을 통해 784 -> 16\n",
    "        # hidden layer 2\n",
    "        self.linear2 = nn.Linear(16, 32) #hidden layer2를 통해 16 -> 32\n",
    "        # output layer\n",
    "        self.linear3 = nn.Linear(32, out_size) #output layer를 통해 32 -> 10\n",
    "        \n",
    "    def forward(self, xb):\n",
    "        out = xb.view(xb.size(0), -1)\n",
    "        # hidden layer 1을 통해 중간값 산출\n",
    "        out = self.linear1(out)\n",
    "        # activation function으로 relu 적용\n",
    "        out = F.relu(out)\n",
    "        # hidden layer 2를 통해 중간값 산출\n",
    "        out = self.linear2(out)\n",
    "        # activation function으로 relu 적용\n",
    "        out = F.relu(out)\n",
    "        # output layer를 통해 예측값 산출\n",
    "        out = self.linear3(out)\n",
    "        return out\n",
    "    \n",
    "    def training_step(self, batch):\n",
    "        images, labels = batch \n",
    "        out = self(images)                  # 예측값 생성\n",
    "        loss = F.cross_entropy(out, labels) # loss 산출 (cross entropy 사용)\n",
    "        return loss\n",
    "    \n",
    "    def validation_step(self, batch):\n",
    "        images, labels = batch \n",
    "        out = self(images)                    # 예측값 생성\n",
    "        loss = F.cross_entropy(out, labels)   # loss 산출 (cross entropy 사용)\n",
    "        acc = accuracy(out, labels)           # accuracy 산출\n",
    "        return {'val_loss': loss, 'val_acc': acc}\n",
    "    \n",
    "    def test_step(self, batch):\n",
    "        images, labels = batch \n",
    "        out = self(images)                    # 예측값 생성\n",
    "        loss = F.cross_entropy(out, labels)   # loss 산출 (cross entropy 사용)\n",
    "        acc = accuracy(out, labels)           # accuracy 산출\n",
    "        return {'test_loss': loss, 'test_acc': acc}\n",
    "        \n",
    "    def test_pred(self, batch):\n",
    "        images, labels = batch \n",
    "        out = self(images)                    # 예측값 생성\n",
    "        _, preds = torch.max(out, dim=1)      # 변수 preds에 예측된 class 저장\n",
    "        return preds\n",
    "        \n",
    "    def validation_epoch_end(self, outputs):\n",
    "        batch_losses = [x['val_loss'] for x in outputs]\n",
    "        epoch_loss = torch.stack(batch_losses).mean()   # loss 결합\n",
    "        batch_accs = [x['val_acc'] for x in outputs]\n",
    "        epoch_acc = torch.stack(batch_accs).mean()      # accuracy 결합\n",
    "        return {'val_loss': epoch_loss.item(), 'val_acc': epoch_acc.item()}\n",
    "    \n",
    "    def test_epoch_end(self, outputs):\n",
    "        batch_losses = [x['test_loss'] for x in outputs]\n",
    "        epoch_loss = torch.stack(batch_losses).mean()   # loss 결합\n",
    "        batch_accs = [x['test_acc'] for x in outputs]\n",
    "        epoch_acc = torch.stack(batch_accs).mean()      # accuracy 결합\n",
    "        return {'test_loss': epoch_loss.item(), 'test_acc': epoch_acc.item()}"
   ]
  },
  {
   "cell_type": "markdown",
   "metadata": {},
   "source": [
    "## Training the model"
   ]
  },
  {
   "cell_type": "code",
   "execution_count": 8,
   "metadata": {},
   "outputs": [],
   "source": [
    "def evaluate1(model, val_loader): # validation set에 대한 모델 loss 및 accuracy 산출\n",
    "    outputs = [model.validation_step(batch) for batch in val_loader]\n",
    "    return model.validation_epoch_end(outputs)\n",
    "\n",
    "def evaluate2(model, test_loader): # test set에 대한 모델 loss 및 accuracy 산출\n",
    "    outputs = [model.test_step(batch) for batch in test_loader]\n",
    "    return model.test_epoch_end(outputs)\n",
    "\n",
    "def fit(epochs, lr, model, train_loader, val_loader, test_loader, opt_func=torch.optim.SGD): # model 트레이닝 및 검증\n",
    "    history = []\n",
    "    optimizer = opt_func(model.parameters(), lr)\n",
    "    for epoch in range(epochs):\n",
    "        # Training 단계\n",
    "        for batch in train_loader:\n",
    "            loss = model.training_step(batch)\n",
    "            loss.backward()\n",
    "            optimizer.step()\n",
    "            optimizer.zero_grad()\n",
    "        # Validation 단계\n",
    "        result1 = evaluate1(model, val_loader)\n",
    "        # test 단계\n",
    "        result2 = evaluate2(model, test_loader)\n",
    "        history.append({**result1, **result2}) #epoch마다의 validation set과 test set에서의 loss, accuracy 누적\n",
    "        \n",
    "    return history"
   ]
  },
  {
   "cell_type": "code",
   "execution_count": 9,
   "metadata": {},
   "outputs": [],
   "source": [
    "input_size = 784 # 28 * 28 pixel 데이터\n",
    "num_classes = 10 # 총 클래스 라벨 개수"
   ]
  },
  {
   "cell_type": "code",
   "execution_count": 10,
   "metadata": {},
   "outputs": [],
   "source": [
    "model = MnistModel(input_size, out_size=num_classes) # Neural Network 객체 생성"
   ]
  },
  {
   "cell_type": "code",
   "execution_count": 11,
   "metadata": {},
   "outputs": [
    {
     "data": {
      "text/plain": [
       "[{'val_loss': 2.3075239658355713,\n",
       "  'val_acc': 0.05654297024011612,\n",
       "  'test_loss': 2.3057971000671387,\n",
       "  'test_acc': 0.05332031100988388}]"
      ]
     },
     "execution_count": 11,
     "metadata": {},
     "output_type": "execute_result"
    }
   ],
   "source": [
    "history = [{**evaluate1(model, val_loader), **evaluate2(model, test_loader)}] # validation set, test set의 loss와 accuracy 저장\n",
    "history"
   ]
  },
  {
   "cell_type": "code",
   "execution_count": 12,
   "metadata": {},
   "outputs": [],
   "source": [
    "history += fit(10, 0.1, model, train_loader, val_loader, test_loader) # training 후 loss, accuracy 변화 기록"
   ]
  },
  {
   "cell_type": "code",
   "execution_count": 13,
   "metadata": {},
   "outputs": [
    {
     "data": {
      "text/plain": [
       "[{'val_loss': 2.3075239658355713,\n",
       "  'val_acc': 0.05654297024011612,\n",
       "  'test_loss': 2.3057971000671387,\n",
       "  'test_acc': 0.05332031100988388},\n",
       " {'val_loss': 0.5947979688644409,\n",
       "  'val_acc': 0.7909179925918579,\n",
       "  'test_loss': 0.605983555316925,\n",
       "  'test_acc': 0.7789062261581421},\n",
       " {'val_loss': 0.594525933265686,\n",
       "  'val_acc': 0.7821289300918579,\n",
       "  'test_loss': 0.6110693216323853,\n",
       "  'test_acc': 0.77587890625},\n",
       " {'val_loss': 0.4918852746486664,\n",
       "  'val_acc': 0.8267577886581421,\n",
       "  'test_loss': 0.5140551328659058,\n",
       "  'test_acc': 0.815136730670929},\n",
       " {'val_loss': 0.460498183965683,\n",
       "  'val_acc': 0.836621105670929,\n",
       "  'test_loss': 0.47635895013809204,\n",
       "  'test_acc': 0.828906238079071},\n",
       " {'val_loss': 0.4708684980869293,\n",
       "  'val_acc': 0.830078125,\n",
       "  'test_loss': 0.48562556505203247,\n",
       "  'test_acc': 0.821093738079071},\n",
       " {'val_loss': 0.44264331459999084,\n",
       "  'val_acc': 0.8446289300918579,\n",
       "  'test_loss': 0.457392156124115,\n",
       "  'test_acc': 0.8345702886581421},\n",
       " {'val_loss': 0.4077225625514984,\n",
       "  'val_acc': 0.85791015625,\n",
       "  'test_loss': 0.4294160008430481,\n",
       "  'test_acc': 0.841992199420929},\n",
       " {'val_loss': 0.405748188495636,\n",
       "  'val_acc': 0.8525390625,\n",
       "  'test_loss': 0.42464107275009155,\n",
       "  'test_acc': 0.841796875},\n",
       " {'val_loss': 0.43774837255477905,\n",
       "  'val_acc': 0.8458007574081421,\n",
       "  'test_loss': 0.4544443190097809,\n",
       "  'test_acc': 0.83740234375},\n",
       " {'val_loss': 0.42774075269699097,\n",
       "  'val_acc': 0.8495117425918579,\n",
       "  'test_loss': 0.4531128406524658,\n",
       "  'test_acc': 0.8384765386581421}]"
      ]
     },
     "execution_count": 13,
     "metadata": {},
     "output_type": "execute_result"
    }
   ],
   "source": [
    "history"
   ]
  },
  {
   "cell_type": "code",
   "execution_count": 14,
   "metadata": {},
   "outputs": [
    {
     "data": {
      "image/png": "[encoded data removed]",
      "text/plain": [
       "<Figure size 432x288 with 1 Axes>"
      ]
     },
     "metadata": {
      "needs_background": "light"
     },
     "output_type": "display_data"
    }
   ],
   "source": [
    "losses_val = [x['val_loss'] for x in history]\n",
    "losses_test = [x['test_loss'] for x in history]\n",
    "plt.plot(losses_val, 'r-x')\n",
    "plt.plot(losses_test, 'b-o')\n",
    "plt.xlabel('epoch')\n",
    "plt.ylabel('loss')\n",
    "plt.title('Loss vs. No. of epochs');"
   ]
  },
  {
   "cell_type": "code",
   "execution_count": 15,
   "metadata": {},
   "outputs": [
    {
     "data": {
      "image/png": "[encoded data removed]",
      "text/plain": [
       "<Figure size 432x288 with 1 Axes>"
      ]
     },
     "metadata": {
      "needs_background": "light"
     },
     "output_type": "display_data"
    }
   ],
   "source": [
    "accuracies_val = [x['val_acc'] for x in history]\n",
    "accuracies_test = [x['test_acc'] for x in history]\n",
    "plt.plot(accuracies_val, 'r-x')\n",
    "plt.plot(accuracies_test, 'b-o')\n",
    "plt.xlabel('epoch')\n",
    "plt.ylabel('accuracy')\n",
    "plt.title('Accuracy vs. No. of epochs');"
   ]
  },
  {
   "cell_type": "code",
   "execution_count": 16,
   "metadata": {
    "scrolled": true
   },
   "outputs": [
    {
     "data": {
      "text/plain": [
       "{'test_loss': 0.4531128406524658, 'test_acc': 0.8384765386581421}"
      ]
     },
     "execution_count": 16,
     "metadata": {},
     "output_type": "execute_result"
    }
   ],
   "source": [
    "evaluate2(model, test_loader) # test set에 대한 최종모델의 성능평가"
   ]
  },
  {
   "cell_type": "code",
   "execution_count": 31,
   "metadata": {},
   "outputs": [
    {
     "data": {
      "image/png": "[encoded data removed]",
      "text/plain": [
       "<Figure size 864x504 with 2 Axes>"
      ]
     },
     "metadata": {
      "needs_background": "light"
     },
     "output_type": "display_data"
    },
    {
     "data": {
      "text/plain": [
       "<Figure size 432x288 with 0 Axes>"
      ]
     },
     "metadata": {},
     "output_type": "display_data"
    }
   ],
   "source": [
    "from sklearn.metrics import confusion_matrix\n",
    "import seaborn as sn\n",
    "import pandas as pd\n",
    "\n",
    "y_pred = []\n",
    "for batch in test_loader:\n",
    "    k = (model.test_pred(batch)).data.cpu().numpy().tolist()\n",
    "    y_pred.append(k) # 예측값 저장\n",
    "y_pred = sum(y_pred, [])\n",
    "    \n",
    "y_true = []\n",
    "for inputs, labels in test_loader:   \n",
    "    labels = labels.data.cpu().numpy().tolist()\n",
    "    y_true.append(labels) # 실제값 저장\n",
    "y_true = sum(y_true, [])\n",
    "        \n",
    "classes = ('T-shirt/top', 'Trouser', 'Pullover', 'Dress', 'Coat',\n",
    "        'Sandal', 'Shirt', 'Sneaker', 'Bag', 'Ankle Boot')\n",
    "\n",
    "# confusion matrix 생성\n",
    "cf_matrix = confusion_matrix(y_true, y_pred)\n",
    "df_cm = pd.DataFrame(cf_matrix/np.sum(cf_matrix) *10, index = [i for i in classes],\n",
    "                     columns = [i for i in classes])\n",
    "plt.figure(figsize = (12,7))\n",
    "sn.heatmap(df_cm, annot=True)\n",
    "plt.show()\n",
    "plt.savefig('output_FNN1.png')"
   ]
  },
  {
   "cell_type": "code",
   "execution_count": null,
   "metadata": {},
   "outputs": [],
   "source": []
  }
 ],
 "metadata": {
  "kernelspec": {
   "display_name": "Python 3 (ipykernel)",
   "language": "python",
   "name": "python3"
  },
  "language_info": {
   "codemirror_mode": {
    "name": "ipython",
    "version": 3
   },
   "file_extension": ".py",
   "mimetype": "text/x-python",
   "name": "python",
   "nbconvert_exporter": "python",
   "pygments_lexer": "ipython3",
   "version": "3.9.7"
  }
 },
 "nbformat": 4,
 "nbformat_minor": 4
}
